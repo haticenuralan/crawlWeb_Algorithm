{
  "nbformat": 4,
  "nbformat_minor": 0,
  "metadata": {
    "colab": {
      "provenance": [],
      "authorship_tag": "ABX9TyOKaJrckePidc4Et0cq9ONj",
      "include_colab_link": true
    },
    "kernelspec": {
      "name": "python3",
      "display_name": "Python 3"
    },
    "language_info": {
      "name": "python"
    }
  },
  "cells": [
    {
      "cell_type": "markdown",
      "metadata": {
        "id": "view-in-github",
        "colab_type": "text"
      },
      "source": [
        "<a href=\"https://colab.research.google.com/github/haticenuralan/crawlWeb_Algorithm/blob/main/crawlWeb_Algorithm.ipynb\" target=\"_parent\"><img src=\"https://colab.research.google.com/assets/colab-badge.svg\" alt=\"Open In Colab\"/></a>"
      ]
    },
    {
      "cell_type": "code",
      "execution_count": 5,
      "metadata": {
        "colab": {
          "base_uri": "https://localhost:8080/"
        },
        "id": "5QMQPbfnzJ8A",
        "outputId": "d8594612-58c7-4c46-91ef-1c0429576cb5"
      },
      "outputs": [
        {
          "output_type": "stream",
          "name": "stdout",
          "text": [
            "<!DOCTYPE html>\n",
            "<html lang=\"tr\">\n",
            "\n",
            "  <head>\n",
            "    <title>Places to Visit</title>\n",
            "    <meta charset=\"UTF-8\">\n",
            "  </head>\n",
            "  <style>\n",
            "    /* Link rengini belirle */\n",
            "    a {\n",
            "      color: blue; /* Varsayılan link rengi */\n",
            "\n",
            "    }\n",
            "\n",
            "    /* Ziyaret edilmiş link rengini belirle */\n",
            "    a:visited {\n",
            "      color: blue;\n",
            "    }\n",
            "  </style>\n",
            "\n",
            "  <body>\n",
            "    <h1>Places to Visit</h1>\n",
            "    <p>Here are some places I want to travel to:</p>\n",
            "\n",
            "    <ul>\n",
            "      <li><a href=\"https://ayaktayolcukalmasin.com.tr/ankara.html\">Sights to see in Ankara</a></li>\n",
            "      <li><a href=\"https://ayaktayolcukalmasin.com.tr/konya.html\">Sights to see in Konya</a></li>\n",
            "      <li><a href=\"https://ayaktayolcukalmasin.com.tr/istanbul.html\">Sights to see in İstanbul</a></li>\n",
            "    </ul>\n",
            "\n",
            "    For further suggestions:\n",
            "    <a href=\"https://ayaktayolcukalmasin.com.tr/oktayrecommends.html\">Oktay's Recommendations</a>\n",
            "    and <a href=\"https://ayaktayolcukalmasin.com.tr/seymarecommends.html\">Şeyma's Recommendations</a>.\n",
            "  </body>\n",
            "</html>\n",
            "\n"
          ]
        }
      ],
      "source": [
        "def get_page(url):\n",
        "  try:\n",
        "    import urllib.request\n",
        "    page = urllib.request.urlopen(url).read()\n",
        "    page = page.decode(\"utf-8\")\n",
        "    return page\n",
        "  except:\n",
        "    return \"\"\n",
        "\n",
        "url = \"https://ayaktayolcukalmasin.com.tr/ana_sayfa.html\"\n",
        "\n",
        "result = get_page(url)\n",
        "print(result)"
      ]
    },
    {
      "cell_type": "code",
      "source": [
        "def get_next_target(page):\n",
        "    start_link = page.find('<a href=')\n",
        "    if start_link == -1:\n",
        "        return None, 0\n",
        "    start_quote = page.find('\"', start_link)\n",
        "    end_quote = page.find('\"', start_quote+1)\n",
        "    url = page[start_quote + 1:end_quote]\n",
        "    return url, end_quote\n",
        "\n",
        "get_next_target(result)"
      ],
      "metadata": {
        "colab": {
          "base_uri": "https://localhost:8080/"
        },
        "id": "XxwXGDugzZHa",
        "outputId": "f2ba107f-3861-40ee-dff7-ce517fb2470f"
      },
      "execution_count": 6,
      "outputs": [
        {
          "output_type": "execute_result",
          "data": {
            "text/plain": [
              "('https://ayaktayolcukalmasin.com.tr/ankara.html', 485)"
            ]
          },
          "metadata": {},
          "execution_count": 6
        }
      ]
    },
    {
      "cell_type": "code",
      "source": [
        "\n",
        "\n",
        "def get_all_links(page):\n",
        "    links = []\n",
        "    while True:\n",
        "      url, endpos = get_next_target(page)\n",
        "      if url:\n",
        "        links.append(url)\n",
        "        page = page[endpos:]\n",
        "      else:\n",
        "        break\n",
        "    return links\n",
        "\n",
        "get_all_links(result)"
      ],
      "metadata": {
        "colab": {
          "base_uri": "https://localhost:8080/"
        },
        "id": "IrNk5bqSzcQy",
        "outputId": "1dc4670e-d141-4945-a5e0-ca71c99c2af0"
      },
      "execution_count": 7,
      "outputs": [
        {
          "output_type": "execute_result",
          "data": {
            "text/plain": [
              "['https://ayaktayolcukalmasin.com.tr/ankara.html',\n",
              " 'https://ayaktayolcukalmasin.com.tr/konya.html',\n",
              " 'https://ayaktayolcukalmasin.com.tr/istanbul.html',\n",
              " 'https://ayaktayolcukalmasin.com.tr/oktayrecommends.html',\n",
              " 'https://ayaktayolcukalmasin.com.tr/seymarecommends.html']"
            ]
          },
          "metadata": {},
          "execution_count": 7
        }
      ]
    },
    {
      "cell_type": "code",
      "source": [
        "\n",
        "def union(p, q):\n",
        "  for e in q:\n",
        "    if e not in p:\n",
        "      p.append(e)\n",
        "  return p\n",
        "\n"
      ],
      "metadata": {
        "id": "zp1EdFeazfm5"
      },
      "execution_count": 8,
      "outputs": []
    },
    {
      "cell_type": "code",
      "source": [
        "\n",
        "def add_toIndex(index, keyword, url):\n",
        "  for entry in index:\n",
        "    if entry[0] == keyword:\n",
        "      entry[1].append(url)\n",
        "      return\n",
        "  index.append([keyword, [url]])\n"
      ],
      "metadata": {
        "id": "xc13-WmszhaA"
      },
      "execution_count": 9,
      "outputs": []
    },
    {
      "cell_type": "code",
      "source": [
        "\n",
        "def addPageToIndex(index, url, content):\n",
        "    words = content.split()\n",
        "    for word in words:\n",
        "        add_toIndex(index, word, url)\n"
      ],
      "metadata": {
        "id": "VF3MoXdozkAF"
      },
      "execution_count": 10,
      "outputs": []
    },
    {
      "cell_type": "code",
      "source": [
        "\n",
        "def lookup(index, keyword):\n",
        "    for entry in index:\n",
        "        if entry[0] == keyword:\n",
        "            return entry[1]\n",
        "    return None\n"
      ],
      "metadata": {
        "id": "umn2j9p8zlXj"
      },
      "execution_count": 11,
      "outputs": []
    },
    {
      "cell_type": "code",
      "source": [
        "def crawlWeb(seed):\n",
        "  tocrawl = [seed]\n",
        "  crawled = []\n",
        "  index = []\n",
        "  while tocrawl:\n",
        "    page = tocrawl.pop()\n",
        "    if page not in crawled:\n",
        "      content = get_page(page)\n",
        "      addPageToIndex(index, page, content)\n",
        "      union(tocrawl, get_all_links(get_page(page)))\n",
        "      crawled.append(page)\n",
        "  return index\n",
        "\n",
        "index1 = crawlWeb(\"https://ayaktayolcukalmasin.com.tr/ana_sayfa.html\")\n",
        "\n",
        "for entry in index1:\n",
        "  print(entry)"
      ],
      "metadata": {
        "colab": {
          "base_uri": "https://localhost:8080/"
        },
        "id": "VoI1IpV-79ws",
        "outputId": "c036ab52-1110-4a45-feeb-3054f6811682"
      },
      "execution_count": 12,
      "outputs": [
        {
          "output_type": "stream",
          "name": "stdout",
          "text": [
            "['<!DOCTYPE', ['https://ayaktayolcukalmasin.com.tr/ana_sayfa.html', 'https://ayaktayolcukalmasin.com.tr/seymarecommends.html', 'https://ayaktayolcukalmasin.com.tr/oktayrecommends.html', 'https://ayaktayolcukalmasin.com.tr/istanbul.html', 'https://ayaktayolcukalmasin.com.tr/konya.html', 'https://ayaktayolcukalmasin.com.tr/ankara.html']]\n",
            "['html>', ['https://ayaktayolcukalmasin.com.tr/ana_sayfa.html', 'https://ayaktayolcukalmasin.com.tr/seymarecommends.html', 'https://ayaktayolcukalmasin.com.tr/oktayrecommends.html', 'https://ayaktayolcukalmasin.com.tr/istanbul.html', 'https://ayaktayolcukalmasin.com.tr/konya.html', 'https://ayaktayolcukalmasin.com.tr/ankara.html']]\n",
            "['<html', ['https://ayaktayolcukalmasin.com.tr/ana_sayfa.html', 'https://ayaktayolcukalmasin.com.tr/seymarecommends.html', 'https://ayaktayolcukalmasin.com.tr/oktayrecommends.html', 'https://ayaktayolcukalmasin.com.tr/istanbul.html', 'https://ayaktayolcukalmasin.com.tr/konya.html', 'https://ayaktayolcukalmasin.com.tr/ankara.html']]\n",
            "['lang=\"tr\">', ['https://ayaktayolcukalmasin.com.tr/ana_sayfa.html', 'https://ayaktayolcukalmasin.com.tr/seymarecommends.html', 'https://ayaktayolcukalmasin.com.tr/oktayrecommends.html', 'https://ayaktayolcukalmasin.com.tr/istanbul.html', 'https://ayaktayolcukalmasin.com.tr/konya.html', 'https://ayaktayolcukalmasin.com.tr/ankara.html']]\n",
            "['<head>', ['https://ayaktayolcukalmasin.com.tr/ana_sayfa.html', 'https://ayaktayolcukalmasin.com.tr/seymarecommends.html', 'https://ayaktayolcukalmasin.com.tr/oktayrecommends.html', 'https://ayaktayolcukalmasin.com.tr/istanbul.html', 'https://ayaktayolcukalmasin.com.tr/konya.html', 'https://ayaktayolcukalmasin.com.tr/ankara.html']]\n",
            "['<title>Places', ['https://ayaktayolcukalmasin.com.tr/ana_sayfa.html']]\n",
            "['to', ['https://ayaktayolcukalmasin.com.tr/ana_sayfa.html', 'https://ayaktayolcukalmasin.com.tr/ana_sayfa.html', 'https://ayaktayolcukalmasin.com.tr/ana_sayfa.html', 'https://ayaktayolcukalmasin.com.tr/ana_sayfa.html', 'https://ayaktayolcukalmasin.com.tr/ana_sayfa.html', 'https://ayaktayolcukalmasin.com.tr/ana_sayfa.html', 'https://ayaktayolcukalmasin.com.tr/seymarecommends.html', 'https://ayaktayolcukalmasin.com.tr/oktayrecommends.html', 'https://ayaktayolcukalmasin.com.tr/konya.html', 'https://ayaktayolcukalmasin.com.tr/ankara.html']]\n",
            "['Visit</title>', ['https://ayaktayolcukalmasin.com.tr/ana_sayfa.html']]\n",
            "['<meta', ['https://ayaktayolcukalmasin.com.tr/ana_sayfa.html', 'https://ayaktayolcukalmasin.com.tr/seymarecommends.html', 'https://ayaktayolcukalmasin.com.tr/oktayrecommends.html', 'https://ayaktayolcukalmasin.com.tr/istanbul.html', 'https://ayaktayolcukalmasin.com.tr/konya.html', 'https://ayaktayolcukalmasin.com.tr/ankara.html']]\n",
            "['charset=\"UTF-8\">', ['https://ayaktayolcukalmasin.com.tr/ana_sayfa.html', 'https://ayaktayolcukalmasin.com.tr/oktayrecommends.html', 'https://ayaktayolcukalmasin.com.tr/istanbul.html', 'https://ayaktayolcukalmasin.com.tr/ankara.html']]\n",
            "['</head>', ['https://ayaktayolcukalmasin.com.tr/ana_sayfa.html', 'https://ayaktayolcukalmasin.com.tr/seymarecommends.html', 'https://ayaktayolcukalmasin.com.tr/oktayrecommends.html', 'https://ayaktayolcukalmasin.com.tr/istanbul.html', 'https://ayaktayolcukalmasin.com.tr/konya.html', 'https://ayaktayolcukalmasin.com.tr/ankara.html']]\n",
            "['<style>', ['https://ayaktayolcukalmasin.com.tr/ana_sayfa.html', 'https://ayaktayolcukalmasin.com.tr/seymarecommends.html', 'https://ayaktayolcukalmasin.com.tr/oktayrecommends.html', 'https://ayaktayolcukalmasin.com.tr/istanbul.html', 'https://ayaktayolcukalmasin.com.tr/konya.html', 'https://ayaktayolcukalmasin.com.tr/ankara.html']]\n",
            "['/*', ['https://ayaktayolcukalmasin.com.tr/ana_sayfa.html', 'https://ayaktayolcukalmasin.com.tr/ana_sayfa.html', 'https://ayaktayolcukalmasin.com.tr/ana_sayfa.html', 'https://ayaktayolcukalmasin.com.tr/seymarecommends.html', 'https://ayaktayolcukalmasin.com.tr/seymarecommends.html', 'https://ayaktayolcukalmasin.com.tr/seymarecommends.html', 'https://ayaktayolcukalmasin.com.tr/oktayrecommends.html', 'https://ayaktayolcukalmasin.com.tr/oktayrecommends.html', 'https://ayaktayolcukalmasin.com.tr/oktayrecommends.html', 'https://ayaktayolcukalmasin.com.tr/istanbul.html', 'https://ayaktayolcukalmasin.com.tr/istanbul.html', 'https://ayaktayolcukalmasin.com.tr/istanbul.html', 'https://ayaktayolcukalmasin.com.tr/konya.html', 'https://ayaktayolcukalmasin.com.tr/konya.html', 'https://ayaktayolcukalmasin.com.tr/konya.html', 'https://ayaktayolcukalmasin.com.tr/ankara.html', 'https://ayaktayolcukalmasin.com.tr/ankara.html', 'https://ayaktayolcukalmasin.com.tr/ankara.html']]\n",
            "['Link', ['https://ayaktayolcukalmasin.com.tr/ana_sayfa.html', 'https://ayaktayolcukalmasin.com.tr/seymarecommends.html', 'https://ayaktayolcukalmasin.com.tr/oktayrecommends.html', 'https://ayaktayolcukalmasin.com.tr/istanbul.html', 'https://ayaktayolcukalmasin.com.tr/konya.html', 'https://ayaktayolcukalmasin.com.tr/ankara.html']]\n",
            "['rengini', ['https://ayaktayolcukalmasin.com.tr/ana_sayfa.html', 'https://ayaktayolcukalmasin.com.tr/ana_sayfa.html', 'https://ayaktayolcukalmasin.com.tr/seymarecommends.html', 'https://ayaktayolcukalmasin.com.tr/seymarecommends.html', 'https://ayaktayolcukalmasin.com.tr/oktayrecommends.html', 'https://ayaktayolcukalmasin.com.tr/oktayrecommends.html', 'https://ayaktayolcukalmasin.com.tr/istanbul.html', 'https://ayaktayolcukalmasin.com.tr/istanbul.html', 'https://ayaktayolcukalmasin.com.tr/konya.html', 'https://ayaktayolcukalmasin.com.tr/konya.html', 'https://ayaktayolcukalmasin.com.tr/ankara.html', 'https://ayaktayolcukalmasin.com.tr/ankara.html']]\n",
            "['belirle', ['https://ayaktayolcukalmasin.com.tr/ana_sayfa.html', 'https://ayaktayolcukalmasin.com.tr/ana_sayfa.html', 'https://ayaktayolcukalmasin.com.tr/seymarecommends.html', 'https://ayaktayolcukalmasin.com.tr/seymarecommends.html', 'https://ayaktayolcukalmasin.com.tr/oktayrecommends.html', 'https://ayaktayolcukalmasin.com.tr/oktayrecommends.html', 'https://ayaktayolcukalmasin.com.tr/istanbul.html', 'https://ayaktayolcukalmasin.com.tr/istanbul.html', 'https://ayaktayolcukalmasin.com.tr/konya.html', 'https://ayaktayolcukalmasin.com.tr/konya.html', 'https://ayaktayolcukalmasin.com.tr/ankara.html', 'https://ayaktayolcukalmasin.com.tr/ankara.html']]\n",
            "['*/', ['https://ayaktayolcukalmasin.com.tr/ana_sayfa.html', 'https://ayaktayolcukalmasin.com.tr/ana_sayfa.html', 'https://ayaktayolcukalmasin.com.tr/ana_sayfa.html', 'https://ayaktayolcukalmasin.com.tr/seymarecommends.html', 'https://ayaktayolcukalmasin.com.tr/seymarecommends.html', 'https://ayaktayolcukalmasin.com.tr/seymarecommends.html', 'https://ayaktayolcukalmasin.com.tr/oktayrecommends.html', 'https://ayaktayolcukalmasin.com.tr/oktayrecommends.html', 'https://ayaktayolcukalmasin.com.tr/oktayrecommends.html', 'https://ayaktayolcukalmasin.com.tr/istanbul.html', 'https://ayaktayolcukalmasin.com.tr/istanbul.html', 'https://ayaktayolcukalmasin.com.tr/istanbul.html', 'https://ayaktayolcukalmasin.com.tr/konya.html', 'https://ayaktayolcukalmasin.com.tr/konya.html', 'https://ayaktayolcukalmasin.com.tr/konya.html', 'https://ayaktayolcukalmasin.com.tr/ankara.html', 'https://ayaktayolcukalmasin.com.tr/ankara.html', 'https://ayaktayolcukalmasin.com.tr/ankara.html']]\n",
            "['a', ['https://ayaktayolcukalmasin.com.tr/ana_sayfa.html', 'https://ayaktayolcukalmasin.com.tr/seymarecommends.html', 'https://ayaktayolcukalmasin.com.tr/oktayrecommends.html', 'https://ayaktayolcukalmasin.com.tr/istanbul.html', 'https://ayaktayolcukalmasin.com.tr/konya.html', 'https://ayaktayolcukalmasin.com.tr/ankara.html']]\n",
            "['{', ['https://ayaktayolcukalmasin.com.tr/ana_sayfa.html', 'https://ayaktayolcukalmasin.com.tr/ana_sayfa.html', 'https://ayaktayolcukalmasin.com.tr/seymarecommends.html', 'https://ayaktayolcukalmasin.com.tr/seymarecommends.html', 'https://ayaktayolcukalmasin.com.tr/oktayrecommends.html', 'https://ayaktayolcukalmasin.com.tr/oktayrecommends.html', 'https://ayaktayolcukalmasin.com.tr/istanbul.html', 'https://ayaktayolcukalmasin.com.tr/istanbul.html', 'https://ayaktayolcukalmasin.com.tr/konya.html', 'https://ayaktayolcukalmasin.com.tr/konya.html', 'https://ayaktayolcukalmasin.com.tr/ankara.html', 'https://ayaktayolcukalmasin.com.tr/ankara.html']]\n",
            "['color:', ['https://ayaktayolcukalmasin.com.tr/ana_sayfa.html', 'https://ayaktayolcukalmasin.com.tr/ana_sayfa.html', 'https://ayaktayolcukalmasin.com.tr/seymarecommends.html', 'https://ayaktayolcukalmasin.com.tr/seymarecommends.html', 'https://ayaktayolcukalmasin.com.tr/oktayrecommends.html', 'https://ayaktayolcukalmasin.com.tr/oktayrecommends.html', 'https://ayaktayolcukalmasin.com.tr/istanbul.html', 'https://ayaktayolcukalmasin.com.tr/istanbul.html', 'https://ayaktayolcukalmasin.com.tr/konya.html', 'https://ayaktayolcukalmasin.com.tr/konya.html', 'https://ayaktayolcukalmasin.com.tr/ankara.html', 'https://ayaktayolcukalmasin.com.tr/ankara.html']]\n",
            "['blue;', ['https://ayaktayolcukalmasin.com.tr/ana_sayfa.html', 'https://ayaktayolcukalmasin.com.tr/ana_sayfa.html', 'https://ayaktayolcukalmasin.com.tr/seymarecommends.html', 'https://ayaktayolcukalmasin.com.tr/seymarecommends.html', 'https://ayaktayolcukalmasin.com.tr/oktayrecommends.html', 'https://ayaktayolcukalmasin.com.tr/oktayrecommends.html', 'https://ayaktayolcukalmasin.com.tr/istanbul.html', 'https://ayaktayolcukalmasin.com.tr/istanbul.html', 'https://ayaktayolcukalmasin.com.tr/konya.html', 'https://ayaktayolcukalmasin.com.tr/konya.html', 'https://ayaktayolcukalmasin.com.tr/ankara.html', 'https://ayaktayolcukalmasin.com.tr/ankara.html']]\n",
            "['Varsayılan', ['https://ayaktayolcukalmasin.com.tr/ana_sayfa.html', 'https://ayaktayolcukalmasin.com.tr/seymarecommends.html', 'https://ayaktayolcukalmasin.com.tr/oktayrecommends.html', 'https://ayaktayolcukalmasin.com.tr/istanbul.html', 'https://ayaktayolcukalmasin.com.tr/konya.html', 'https://ayaktayolcukalmasin.com.tr/ankara.html']]\n",
            "['link', ['https://ayaktayolcukalmasin.com.tr/ana_sayfa.html', 'https://ayaktayolcukalmasin.com.tr/ana_sayfa.html', 'https://ayaktayolcukalmasin.com.tr/seymarecommends.html', 'https://ayaktayolcukalmasin.com.tr/seymarecommends.html', 'https://ayaktayolcukalmasin.com.tr/oktayrecommends.html', 'https://ayaktayolcukalmasin.com.tr/oktayrecommends.html', 'https://ayaktayolcukalmasin.com.tr/istanbul.html', 'https://ayaktayolcukalmasin.com.tr/istanbul.html', 'https://ayaktayolcukalmasin.com.tr/konya.html', 'https://ayaktayolcukalmasin.com.tr/konya.html', 'https://ayaktayolcukalmasin.com.tr/ankara.html', 'https://ayaktayolcukalmasin.com.tr/ankara.html']]\n",
            "['rengi', ['https://ayaktayolcukalmasin.com.tr/ana_sayfa.html', 'https://ayaktayolcukalmasin.com.tr/seymarecommends.html', 'https://ayaktayolcukalmasin.com.tr/oktayrecommends.html', 'https://ayaktayolcukalmasin.com.tr/istanbul.html', 'https://ayaktayolcukalmasin.com.tr/konya.html', 'https://ayaktayolcukalmasin.com.tr/ankara.html']]\n",
            "['}', ['https://ayaktayolcukalmasin.com.tr/ana_sayfa.html', 'https://ayaktayolcukalmasin.com.tr/ana_sayfa.html', 'https://ayaktayolcukalmasin.com.tr/seymarecommends.html', 'https://ayaktayolcukalmasin.com.tr/seymarecommends.html', 'https://ayaktayolcukalmasin.com.tr/oktayrecommends.html', 'https://ayaktayolcukalmasin.com.tr/oktayrecommends.html', 'https://ayaktayolcukalmasin.com.tr/istanbul.html', 'https://ayaktayolcukalmasin.com.tr/istanbul.html', 'https://ayaktayolcukalmasin.com.tr/konya.html', 'https://ayaktayolcukalmasin.com.tr/konya.html', 'https://ayaktayolcukalmasin.com.tr/ankara.html', 'https://ayaktayolcukalmasin.com.tr/ankara.html']]\n",
            "['Ziyaret', ['https://ayaktayolcukalmasin.com.tr/ana_sayfa.html', 'https://ayaktayolcukalmasin.com.tr/seymarecommends.html', 'https://ayaktayolcukalmasin.com.tr/oktayrecommends.html', 'https://ayaktayolcukalmasin.com.tr/istanbul.html', 'https://ayaktayolcukalmasin.com.tr/konya.html', 'https://ayaktayolcukalmasin.com.tr/ankara.html']]\n",
            "['edilmiş', ['https://ayaktayolcukalmasin.com.tr/ana_sayfa.html', 'https://ayaktayolcukalmasin.com.tr/seymarecommends.html', 'https://ayaktayolcukalmasin.com.tr/oktayrecommends.html', 'https://ayaktayolcukalmasin.com.tr/istanbul.html', 'https://ayaktayolcukalmasin.com.tr/konya.html', 'https://ayaktayolcukalmasin.com.tr/ankara.html']]\n",
            "['a:visited', ['https://ayaktayolcukalmasin.com.tr/ana_sayfa.html', 'https://ayaktayolcukalmasin.com.tr/seymarecommends.html', 'https://ayaktayolcukalmasin.com.tr/oktayrecommends.html', 'https://ayaktayolcukalmasin.com.tr/istanbul.html', 'https://ayaktayolcukalmasin.com.tr/konya.html', 'https://ayaktayolcukalmasin.com.tr/ankara.html']]\n",
            "['</style>', ['https://ayaktayolcukalmasin.com.tr/ana_sayfa.html', 'https://ayaktayolcukalmasin.com.tr/seymarecommends.html', 'https://ayaktayolcukalmasin.com.tr/oktayrecommends.html', 'https://ayaktayolcukalmasin.com.tr/istanbul.html', 'https://ayaktayolcukalmasin.com.tr/konya.html', 'https://ayaktayolcukalmasin.com.tr/ankara.html']]\n",
            "['<body>', ['https://ayaktayolcukalmasin.com.tr/ana_sayfa.html', 'https://ayaktayolcukalmasin.com.tr/seymarecommends.html', 'https://ayaktayolcukalmasin.com.tr/oktayrecommends.html', 'https://ayaktayolcukalmasin.com.tr/istanbul.html', 'https://ayaktayolcukalmasin.com.tr/konya.html', 'https://ayaktayolcukalmasin.com.tr/ankara.html']]\n",
            "['<h1>Places', ['https://ayaktayolcukalmasin.com.tr/ana_sayfa.html', 'https://ayaktayolcukalmasin.com.tr/konya.html']]\n",
            "['Visit</h1>', ['https://ayaktayolcukalmasin.com.tr/ana_sayfa.html']]\n",
            "['<p>Here', ['https://ayaktayolcukalmasin.com.tr/ana_sayfa.html']]\n",
            "['are', ['https://ayaktayolcukalmasin.com.tr/ana_sayfa.html']]\n",
            "['some', ['https://ayaktayolcukalmasin.com.tr/ana_sayfa.html']]\n",
            "['places', ['https://ayaktayolcukalmasin.com.tr/ana_sayfa.html']]\n",
            "['I', ['https://ayaktayolcukalmasin.com.tr/ana_sayfa.html', 'https://ayaktayolcukalmasin.com.tr/seymarecommends.html', 'https://ayaktayolcukalmasin.com.tr/seymarecommends.html']]\n",
            "['want', ['https://ayaktayolcukalmasin.com.tr/ana_sayfa.html']]\n",
            "['travel', ['https://ayaktayolcukalmasin.com.tr/ana_sayfa.html']]\n",
            "['to:</p>', ['https://ayaktayolcukalmasin.com.tr/ana_sayfa.html']]\n",
            "['<ul>', ['https://ayaktayolcukalmasin.com.tr/ana_sayfa.html']]\n",
            "['<li><a', ['https://ayaktayolcukalmasin.com.tr/ana_sayfa.html', 'https://ayaktayolcukalmasin.com.tr/ana_sayfa.html', 'https://ayaktayolcukalmasin.com.tr/ana_sayfa.html']]\n",
            "['href=\"https://ayaktayolcukalmasin.com.tr/ankara.html\">Sights', ['https://ayaktayolcukalmasin.com.tr/ana_sayfa.html']]\n",
            "['see', ['https://ayaktayolcukalmasin.com.tr/ana_sayfa.html', 'https://ayaktayolcukalmasin.com.tr/ana_sayfa.html', 'https://ayaktayolcukalmasin.com.tr/ana_sayfa.html', 'https://ayaktayolcukalmasin.com.tr/seymarecommends.html', 'https://ayaktayolcukalmasin.com.tr/ankara.html']]\n",
            "['in', ['https://ayaktayolcukalmasin.com.tr/ana_sayfa.html', 'https://ayaktayolcukalmasin.com.tr/ana_sayfa.html', 'https://ayaktayolcukalmasin.com.tr/ana_sayfa.html', 'https://ayaktayolcukalmasin.com.tr/istanbul.html', 'https://ayaktayolcukalmasin.com.tr/konya.html', 'https://ayaktayolcukalmasin.com.tr/ankara.html']]\n",
            "['Ankara</a></li>', ['https://ayaktayolcukalmasin.com.tr/ana_sayfa.html']]\n",
            "['href=\"https://ayaktayolcukalmasin.com.tr/konya.html\">Sights', ['https://ayaktayolcukalmasin.com.tr/ana_sayfa.html']]\n",
            "['Konya</a></li>', ['https://ayaktayolcukalmasin.com.tr/ana_sayfa.html']]\n",
            "['href=\"https://ayaktayolcukalmasin.com.tr/istanbul.html\">Sights', ['https://ayaktayolcukalmasin.com.tr/ana_sayfa.html']]\n",
            "['İstanbul</a></li>', ['https://ayaktayolcukalmasin.com.tr/ana_sayfa.html']]\n",
            "['</ul>', ['https://ayaktayolcukalmasin.com.tr/ana_sayfa.html']]\n",
            "['For', ['https://ayaktayolcukalmasin.com.tr/ana_sayfa.html']]\n",
            "['further', ['https://ayaktayolcukalmasin.com.tr/ana_sayfa.html']]\n",
            "['suggestions:', ['https://ayaktayolcukalmasin.com.tr/ana_sayfa.html']]\n",
            "['<a', ['https://ayaktayolcukalmasin.com.tr/ana_sayfa.html', 'https://ayaktayolcukalmasin.com.tr/ana_sayfa.html', 'https://ayaktayolcukalmasin.com.tr/seymarecommends.html', 'https://ayaktayolcukalmasin.com.tr/seymarecommends.html']]\n",
            "['href=\"https://ayaktayolcukalmasin.com.tr/oktayrecommends.html\">Oktay\\'s', ['https://ayaktayolcukalmasin.com.tr/ana_sayfa.html', 'https://ayaktayolcukalmasin.com.tr/seymarecommends.html']]\n",
            "['Recommendations</a>', ['https://ayaktayolcukalmasin.com.tr/ana_sayfa.html']]\n",
            "['and', ['https://ayaktayolcukalmasin.com.tr/ana_sayfa.html']]\n",
            "['href=\"https://ayaktayolcukalmasin.com.tr/seymarecommends.html\">Şeyma\\'s', ['https://ayaktayolcukalmasin.com.tr/ana_sayfa.html']]\n",
            "['Recommendations</a>.', ['https://ayaktayolcukalmasin.com.tr/ana_sayfa.html', 'https://ayaktayolcukalmasin.com.tr/seymarecommends.html']]\n",
            "['</body>', ['https://ayaktayolcukalmasin.com.tr/ana_sayfa.html', 'https://ayaktayolcukalmasin.com.tr/seymarecommends.html', 'https://ayaktayolcukalmasin.com.tr/oktayrecommends.html', 'https://ayaktayolcukalmasin.com.tr/istanbul.html', 'https://ayaktayolcukalmasin.com.tr/konya.html', 'https://ayaktayolcukalmasin.com.tr/ankara.html']]\n",
            "['</html>', ['https://ayaktayolcukalmasin.com.tr/ana_sayfa.html', 'https://ayaktayolcukalmasin.com.tr/seymarecommends.html', 'https://ayaktayolcukalmasin.com.tr/oktayrecommends.html', 'https://ayaktayolcukalmasin.com.tr/istanbul.html', 'https://ayaktayolcukalmasin.com.tr/konya.html', 'https://ayaktayolcukalmasin.com.tr/ankara.html']]\n",
            "[\"<title>Şeyma's\", ['https://ayaktayolcukalmasin.com.tr/seymarecommends.html']]\n",
            "['Recommendations</title>', ['https://ayaktayolcukalmasin.com.tr/seymarecommends.html', 'https://ayaktayolcukalmasin.com.tr/oktayrecommends.html']]\n",
            "['charset=\"UTF-8\"', ['https://ayaktayolcukalmasin.com.tr/seymarecommends.html', 'https://ayaktayolcukalmasin.com.tr/konya.html']]\n",
            "['/>', ['https://ayaktayolcukalmasin.com.tr/seymarecommends.html', 'https://ayaktayolcukalmasin.com.tr/konya.html']]\n",
            "['<h1>Şeyma', ['https://ayaktayolcukalmasin.com.tr/seymarecommends.html']]\n",
            "['says,</h1>', ['https://ayaktayolcukalmasin.com.tr/seymarecommends.html']]\n",
            "['<p>', ['https://ayaktayolcukalmasin.com.tr/seymarecommends.html', 'https://ayaktayolcukalmasin.com.tr/seymarecommends.html']]\n",
            "['agree', ['https://ayaktayolcukalmasin.com.tr/seymarecommends.html']]\n",
            "['with', ['https://ayaktayolcukalmasin.com.tr/seymarecommends.html']]\n",
            "['</p>', ['https://ayaktayolcukalmasin.com.tr/seymarecommends.html', 'https://ayaktayolcukalmasin.com.tr/seymarecommends.html']]\n",
            "['also', ['https://ayaktayolcukalmasin.com.tr/seymarecommends.html']]\n",
            "['recommend', ['https://ayaktayolcukalmasin.com.tr/seymarecommends.html']]\n",
            "['you', ['https://ayaktayolcukalmasin.com.tr/seymarecommends.html']]\n",
            "['href=\"https://ayaktayolcukalmasin.com.tr/konya.html\">Konya</a>.', ['https://ayaktayolcukalmasin.com.tr/seymarecommends.html']]\n",
            "[\"<title>Oktay's\", ['https://ayaktayolcukalmasin.com.tr/oktayrecommends.html']]\n",
            "[\"<h1>Oktay's\", ['https://ayaktayolcukalmasin.com.tr/oktayrecommends.html']]\n",
            "['Recommendation,</h1>', ['https://ayaktayolcukalmasin.com.tr/oktayrecommends.html']]\n",
            "['<p><a', ['https://ayaktayolcukalmasin.com.tr/oktayrecommends.html', 'https://ayaktayolcukalmasin.com.tr/konya.html']]\n",
            "['href=\"https://ayaktayolcukalmasin.com.tr/istanbul.html\">İstanbul</a>', ['https://ayaktayolcukalmasin.com.tr/oktayrecommends.html']]\n",
            "['is', ['https://ayaktayolcukalmasin.com.tr/oktayrecommends.html']]\n",
            "['the', ['https://ayaktayolcukalmasin.com.tr/oktayrecommends.html']]\n",
            "['most', ['https://ayaktayolcukalmasin.com.tr/oktayrecommends.html']]\n",
            "['beautiful', ['https://ayaktayolcukalmasin.com.tr/oktayrecommends.html']]\n",
            "['city', ['https://ayaktayolcukalmasin.com.tr/oktayrecommends.html']]\n",
            "['visit!</p>', ['https://ayaktayolcukalmasin.com.tr/oktayrecommends.html']]\n",
            "['<title>İstanbul</title>', ['https://ayaktayolcukalmasin.com.tr/istanbul.html']]\n",
            "['<h1>Touristic', ['https://ayaktayolcukalmasin.com.tr/istanbul.html']]\n",
            "['Places', ['https://ayaktayolcukalmasin.com.tr/istanbul.html']]\n",
            "['İstanbul</h1>', ['https://ayaktayolcukalmasin.com.tr/istanbul.html']]\n",
            "['<p></p>', ['https://ayaktayolcukalmasin.com.tr/istanbul.html', 'https://ayaktayolcukalmasin.com.tr/ankara.html']]\n",
            "['<ol>', ['https://ayaktayolcukalmasin.com.tr/istanbul.html', 'https://ayaktayolcukalmasin.com.tr/konya.html', 'https://ayaktayolcukalmasin.com.tr/ankara.html']]\n",
            "['<li>Hagia', ['https://ayaktayolcukalmasin.com.tr/istanbul.html']]\n",
            "['Sophia</li>', ['https://ayaktayolcukalmasin.com.tr/istanbul.html']]\n",
            "['<li>Blue', ['https://ayaktayolcukalmasin.com.tr/istanbul.html']]\n",
            "['Mosque', ['https://ayaktayolcukalmasin.com.tr/istanbul.html']]\n",
            "['(Sultan', ['https://ayaktayolcukalmasin.com.tr/istanbul.html']]\n",
            "['Ahmed', ['https://ayaktayolcukalmasin.com.tr/istanbul.html']]\n",
            "['Mosque)</li>', ['https://ayaktayolcukalmasin.com.tr/istanbul.html']]\n",
            "['<li>Topkapi', ['https://ayaktayolcukalmasin.com.tr/istanbul.html']]\n",
            "['Palace</li>', ['https://ayaktayolcukalmasin.com.tr/istanbul.html']]\n",
            "['<li>Bosphorus', ['https://ayaktayolcukalmasin.com.tr/istanbul.html']]\n",
            "['Strait</li>', ['https://ayaktayolcukalmasin.com.tr/istanbul.html']]\n",
            "['</ol>', ['https://ayaktayolcukalmasin.com.tr/istanbul.html', 'https://ayaktayolcukalmasin.com.tr/konya.html', 'https://ayaktayolcukalmasin.com.tr/ankara.html']]\n",
            "['<title>Konya</title>', ['https://ayaktayolcukalmasin.com.tr/konya.html']]\n",
            "['Visit', ['https://ayaktayolcukalmasin.com.tr/konya.html']]\n",
            "['Konya</h1>', ['https://ayaktayolcukalmasin.com.tr/konya.html']]\n",
            "['href=\"https://ayaktayolcukalmasin.com.tr/seymarecommends.html\">Şeyma</a>', ['https://ayaktayolcukalmasin.com.tr/konya.html']]\n",
            "['recommends', ['https://ayaktayolcukalmasin.com.tr/konya.html']]\n",
            "['visiting', ['https://ayaktayolcukalmasin.com.tr/konya.html']]\n",
            "['Konya.</p>', ['https://ayaktayolcukalmasin.com.tr/konya.html']]\n",
            "['<li>Sille</li>', ['https://ayaktayolcukalmasin.com.tr/konya.html']]\n",
            "['<li>Mevlana', ['https://ayaktayolcukalmasin.com.tr/konya.html']]\n",
            "['Museum</li>', ['https://ayaktayolcukalmasin.com.tr/konya.html']]\n",
            "['<li>Beyşehir', ['https://ayaktayolcukalmasin.com.tr/konya.html']]\n",
            "['Lake</li>', ['https://ayaktayolcukalmasin.com.tr/konya.html']]\n",
            "['<title>Ankara</title>', ['https://ayaktayolcukalmasin.com.tr/ankara.html']]\n",
            "['<h1>Sights', ['https://ayaktayolcukalmasin.com.tr/ankara.html']]\n",
            "['Ankara</h1>', ['https://ayaktayolcukalmasin.com.tr/ankara.html']]\n",
            "['<li>Anıtkabir', ['https://ayaktayolcukalmasin.com.tr/ankara.html']]\n",
            "['(Mausoleum', ['https://ayaktayolcukalmasin.com.tr/ankara.html']]\n",
            "['of', ['https://ayaktayolcukalmasin.com.tr/ankara.html']]\n",
            "['Atatürk)</li>', ['https://ayaktayolcukalmasin.com.tr/ankara.html']]\n",
            "['<li>Atakule</li>', ['https://ayaktayolcukalmasin.com.tr/ankara.html']]\n",
            "['<li>Ankara', ['https://ayaktayolcukalmasin.com.tr/ankara.html']]\n",
            "['Castle</li>', ['https://ayaktayolcukalmasin.com.tr/ankara.html']]\n"
          ]
        }
      ]
    }
  ]
}